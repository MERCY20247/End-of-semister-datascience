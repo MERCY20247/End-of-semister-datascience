{
 "cells": [
  {
   "cell_type": "code",
   "execution_count": 1,
   "id": "e90fcb5a-0424-4c98-aff2-bb851d558b0d",
   "metadata": {},
   "outputs": [],
   "source": [
    "import pandas as pd"
   ]
  },
  {
   "cell_type": "code",
   "execution_count": 2,
   "id": "e32e36a6-b645-48e9-8548-256fbe2036b1",
   "metadata": {},
   "outputs": [],
   "source": [
    "import matplotlib.pyplot as plt"
   ]
  },
  {
   "cell_type": "code",
   "execution_count": 3,
   "id": "39b91d37-3dab-40c6-a223-a4b9b326aa1d",
   "metadata": {},
   "outputs": [],
   "source": [
    "import seaborn as sns"
   ]
  },
  {
   "cell_type": "code",
   "execution_count": 5,
   "id": "f5167895-1639-4b0c-9e50-ff4677e8a896",
   "metadata": {},
   "outputs": [],
   "source": [
    "import numpy as np"
   ]
  },
  {
   "cell_type": "code",
   "execution_count": 7,
   "id": "a56c4369-2f01-4981-90d5-cfd1524984e9",
   "metadata": {},
   "outputs": [
    {
     "data": {
      "text/html": [
       "<div>\n",
       "<style scoped>\n",
       "    .dataframe tbody tr th:only-of-type {\n",
       "        vertical-align: middle;\n",
       "    }\n",
       "\n",
       "    .dataframe tbody tr th {\n",
       "        vertical-align: top;\n",
       "    }\n",
       "\n",
       "    .dataframe thead th {\n",
       "        text-align: right;\n",
       "    }\n",
       "</style>\n",
       "<table border=\"1\" class=\"dataframe\">\n",
       "  <thead>\n",
       "    <tr style=\"text-align: right;\">\n",
       "      <th></th>\n",
       "      <th>Age</th>\n",
       "      <th>Sex</th>\n",
       "      <th>Marital_status</th>\n",
       "      <th>Number_of_children</th>\n",
       "      <th>Family_size</th>\n",
       "      <th>Education-degree_recode</th>\n",
       "      <th>Education-degree_recode 2</th>\n",
       "      <th>Education</th>\n",
       "      <th>Race_ethnicity-multi_recode</th>\n",
       "      <th>Immigrate-year</th>\n",
       "      <th>Birthplace_recode</th>\n",
       "      <th>Speaks_English</th>\n",
       "      <th>Employment_status</th>\n",
       "      <th>Income-wages</th>\n",
       "      <th>Region_recode</th>\n",
       "      <th>Region-division_recode</th>\n",
       "      <th>Moved</th>\n",
       "      <th>Year</th>\n",
       "      <th>state</th>\n",
       "    </tr>\n",
       "  </thead>\n",
       "  <tbody>\n",
       "    <tr>\n",
       "      <th>0</th>\n",
       "      <td>30</td>\n",
       "      <td>Male</td>\n",
       "      <td>Married, spouse present</td>\n",
       "      <td>2</td>\n",
       "      <td>4</td>\n",
       "      <td>Masterâ€™s or professional degree</td>\n",
       "      <td>Master or professional degree</td>\n",
       "      <td>Master or PhD or professional degree</td>\n",
       "      <td>Non-Hispanic White</td>\n",
       "      <td>0</td>\n",
       "      <td>U.S. state, territory, or outlying region</td>\n",
       "      <td>Yes, speaks only English</td>\n",
       "      <td>Employed</td>\n",
       "      <td>63000</td>\n",
       "      <td>South</td>\n",
       "      <td>East South Central</td>\n",
       "      <td>Same house</td>\n",
       "      <td>2020</td>\n",
       "      <td>Tennessee</td>\n",
       "    </tr>\n",
       "    <tr>\n",
       "      <th>1</th>\n",
       "      <td>28</td>\n",
       "      <td>Female</td>\n",
       "      <td>Married, spouse present</td>\n",
       "      <td>1 child present</td>\n",
       "      <td>3</td>\n",
       "      <td>Masterâ€™s or professional degree</td>\n",
       "      <td>Master or professional degree</td>\n",
       "      <td>Master or PhD or professional degree</td>\n",
       "      <td>Non-Hispanic White</td>\n",
       "      <td>0</td>\n",
       "      <td>U.S. state, territory, or outlying region</td>\n",
       "      <td>Yes, speaks only English</td>\n",
       "      <td>Employed</td>\n",
       "      <td>46000</td>\n",
       "      <td>South</td>\n",
       "      <td>East South Central</td>\n",
       "      <td>Same house</td>\n",
       "      <td>2020</td>\n",
       "      <td>Tennessee</td>\n",
       "    </tr>\n",
       "    <tr>\n",
       "      <th>2</th>\n",
       "      <td>34</td>\n",
       "      <td>Male</td>\n",
       "      <td>Married, spouse present</td>\n",
       "      <td>1 child present</td>\n",
       "      <td>3</td>\n",
       "      <td>Bachelorâ€™s degree</td>\n",
       "      <td>Bachelor degree</td>\n",
       "      <td>Associate or Bachelor degree</td>\n",
       "      <td>Non-Hispanic White</td>\n",
       "      <td>0</td>\n",
       "      <td>U.S. state, territory, or outlying region</td>\n",
       "      <td>Yes, speaks only English</td>\n",
       "      <td>Employed</td>\n",
       "      <td>45000</td>\n",
       "      <td>South</td>\n",
       "      <td>East South Central</td>\n",
       "      <td>Same house</td>\n",
       "      <td>2020</td>\n",
       "      <td>Tennessee</td>\n",
       "    </tr>\n",
       "    <tr>\n",
       "      <th>3</th>\n",
       "      <td>58</td>\n",
       "      <td>Female</td>\n",
       "      <td>Married, spouse absent</td>\n",
       "      <td>1 child present</td>\n",
       "      <td>2</td>\n",
       "      <td>1 or more years of college, no degree</td>\n",
       "      <td>1 or more years of college, no degree</td>\n",
       "      <td>1 or more years of college, no degree</td>\n",
       "      <td>Non-Hispanic White</td>\n",
       "      <td>0</td>\n",
       "      <td>U.S. state, territory, or outlying region</td>\n",
       "      <td>Yes, speaks only English</td>\n",
       "      <td>Employed</td>\n",
       "      <td>55000</td>\n",
       "      <td>South</td>\n",
       "      <td>East South Central</td>\n",
       "      <td>Same house</td>\n",
       "      <td>2020</td>\n",
       "      <td>Tennessee</td>\n",
       "    </tr>\n",
       "    <tr>\n",
       "      <th>4</th>\n",
       "      <td>39</td>\n",
       "      <td>Male</td>\n",
       "      <td>Never married/single</td>\n",
       "      <td>0 children present</td>\n",
       "      <td>1</td>\n",
       "      <td>Bachelorâ€™s degree</td>\n",
       "      <td>Bachelor degree</td>\n",
       "      <td>Associate or Bachelor degree</td>\n",
       "      <td>Non-Hispanic White</td>\n",
       "      <td>0</td>\n",
       "      <td>U.S. state, territory, or outlying region</td>\n",
       "      <td>Yes, speaks only English</td>\n",
       "      <td>Employed</td>\n",
       "      <td>12000</td>\n",
       "      <td>South</td>\n",
       "      <td>East South Central</td>\n",
       "      <td>Same house</td>\n",
       "      <td>2020</td>\n",
       "      <td>Tennessee</td>\n",
       "    </tr>\n",
       "    <tr>\n",
       "      <th>...</th>\n",
       "      <td>...</td>\n",
       "      <td>...</td>\n",
       "      <td>...</td>\n",
       "      <td>...</td>\n",
       "      <td>...</td>\n",
       "      <td>...</td>\n",
       "      <td>...</td>\n",
       "      <td>...</td>\n",
       "      <td>...</td>\n",
       "      <td>...</td>\n",
       "      <td>...</td>\n",
       "      <td>...</td>\n",
       "      <td>...</td>\n",
       "      <td>...</td>\n",
       "      <td>...</td>\n",
       "      <td>...</td>\n",
       "      <td>...</td>\n",
       "      <td>...</td>\n",
       "      <td>...</td>\n",
       "    </tr>\n",
       "    <tr>\n",
       "      <th>4360</th>\n",
       "      <td>67</td>\n",
       "      <td>Male</td>\n",
       "      <td>Married, spouse present</td>\n",
       "      <td>0 children present</td>\n",
       "      <td>2</td>\n",
       "      <td>Bachelorâ€™s degree</td>\n",
       "      <td>Bachelor degree</td>\n",
       "      <td>Associate or Bachelor degree</td>\n",
       "      <td>Non-Hispanic White</td>\n",
       "      <td>0</td>\n",
       "      <td>U.S. state, territory, or outlying region</td>\n",
       "      <td>Yes, speaks only English</td>\n",
       "      <td>Employed</td>\n",
       "      <td>40000</td>\n",
       "      <td>Midwest</td>\n",
       "      <td>West North Central</td>\n",
       "      <td>Same house</td>\n",
       "      <td>2020</td>\n",
       "      <td>North Dakota</td>\n",
       "    </tr>\n",
       "    <tr>\n",
       "      <th>4361</th>\n",
       "      <td>48</td>\n",
       "      <td>Male</td>\n",
       "      <td>Married, spouse present</td>\n",
       "      <td>4</td>\n",
       "      <td>6</td>\n",
       "      <td>Associateâ€™s degree</td>\n",
       "      <td>Associate degree</td>\n",
       "      <td>Associate or Bachelor degree</td>\n",
       "      <td>Non-Hispanic White</td>\n",
       "      <td>0</td>\n",
       "      <td>U.S. state, territory, or outlying region</td>\n",
       "      <td>Yes, speaks only English</td>\n",
       "      <td>Employed</td>\n",
       "      <td>65000</td>\n",
       "      <td>Midwest</td>\n",
       "      <td>West North Central</td>\n",
       "      <td>Same house</td>\n",
       "      <td>2020</td>\n",
       "      <td>North Dakota</td>\n",
       "    </tr>\n",
       "    <tr>\n",
       "      <th>4362</th>\n",
       "      <td>33</td>\n",
       "      <td>Male</td>\n",
       "      <td>Married, spouse absent</td>\n",
       "      <td>0 children present</td>\n",
       "      <td>1</td>\n",
       "      <td>Associateâ€™s degree</td>\n",
       "      <td>Associate degree</td>\n",
       "      <td>Associate or Bachelor degree</td>\n",
       "      <td>Non-Hispanic Black</td>\n",
       "      <td>2017</td>\n",
       "      <td>Africa</td>\n",
       "      <td>Yes, speaks very well</td>\n",
       "      <td>Employed</td>\n",
       "      <td>45000</td>\n",
       "      <td>Midwest</td>\n",
       "      <td>West North Central</td>\n",
       "      <td>Same house</td>\n",
       "      <td>2020</td>\n",
       "      <td>North Dakota</td>\n",
       "    </tr>\n",
       "    <tr>\n",
       "      <th>4363</th>\n",
       "      <td>22</td>\n",
       "      <td>Female</td>\n",
       "      <td>Never married/single</td>\n",
       "      <td>0 children present</td>\n",
       "      <td>2</td>\n",
       "      <td>1 or more years of college, no degree</td>\n",
       "      <td>1 or more years of college, no degree</td>\n",
       "      <td>1 or more years of college, no degree</td>\n",
       "      <td>Non-Hispanic White</td>\n",
       "      <td>0</td>\n",
       "      <td>U.S. state, territory, or outlying region</td>\n",
       "      <td>Yes, speaks only English</td>\n",
       "      <td>Employed</td>\n",
       "      <td>500</td>\n",
       "      <td>Midwest</td>\n",
       "      <td>West North Central</td>\n",
       "      <td>Same house</td>\n",
       "      <td>2020</td>\n",
       "      <td>North Dakota</td>\n",
       "    </tr>\n",
       "    <tr>\n",
       "      <th>4364</th>\n",
       "      <td>49</td>\n",
       "      <td>Female</td>\n",
       "      <td>Married, spouse present</td>\n",
       "      <td>2</td>\n",
       "      <td>4</td>\n",
       "      <td>Masterâ€™s or professional degree</td>\n",
       "      <td>Master or professional degree</td>\n",
       "      <td>Master or PhD or professional degree</td>\n",
       "      <td>Non-Hispanic White</td>\n",
       "      <td>0</td>\n",
       "      <td>U.S. state, territory, or outlying region</td>\n",
       "      <td>Yes, speaks only English</td>\n",
       "      <td>Employed</td>\n",
       "      <td>498000</td>\n",
       "      <td>Midwest</td>\n",
       "      <td>West North Central</td>\n",
       "      <td>Same house</td>\n",
       "      <td>2020</td>\n",
       "      <td>North Dakota</td>\n",
       "    </tr>\n",
       "  </tbody>\n",
       "</table>\n",
       "<p>4365 rows × 19 columns</p>\n",
       "</div>"
      ],
      "text/plain": [
       "      Age     Sex           Marital_status  Number_of_children  Family_size  \\\n",
       "0      30    Male  Married, spouse present                   2            4   \n",
       "1      28  Female  Married, spouse present     1 child present            3   \n",
       "2      34    Male  Married, spouse present     1 child present            3   \n",
       "3      58  Female   Married, spouse absent     1 child present            2   \n",
       "4      39    Male     Never married/single  0 children present            1   \n",
       "...   ...     ...                      ...                 ...          ...   \n",
       "4360   67    Male  Married, spouse present  0 children present            2   \n",
       "4361   48    Male  Married, spouse present                   4            6   \n",
       "4362   33    Male   Married, spouse absent  0 children present            1   \n",
       "4363   22  Female     Never married/single  0 children present            2   \n",
       "4364   49  Female  Married, spouse present                   2            4   \n",
       "\n",
       "                    Education-degree_recode  \\\n",
       "0         Masterâ€™s or professional degree   \n",
       "1         Masterâ€™s or professional degree   \n",
       "2                       Bachelorâ€™s degree   \n",
       "3     1 or more years of college, no degree   \n",
       "4                       Bachelorâ€™s degree   \n",
       "...                                     ...   \n",
       "4360                    Bachelorâ€™s degree   \n",
       "4361                   Associateâ€™s degree   \n",
       "4362                   Associateâ€™s degree   \n",
       "4363  1 or more years of college, no degree   \n",
       "4364      Masterâ€™s or professional degree   \n",
       "\n",
       "                  Education-degree_recode 2  \\\n",
       "0             Master or professional degree   \n",
       "1             Master or professional degree   \n",
       "2                           Bachelor degree   \n",
       "3     1 or more years of college, no degree   \n",
       "4                           Bachelor degree   \n",
       "...                                     ...   \n",
       "4360                        Bachelor degree   \n",
       "4361                       Associate degree   \n",
       "4362                       Associate degree   \n",
       "4363  1 or more years of college, no degree   \n",
       "4364          Master or professional degree   \n",
       "\n",
       "                                  Education Race_ethnicity-multi_recode  \\\n",
       "0      Master or PhD or professional degree          Non-Hispanic White   \n",
       "1      Master or PhD or professional degree          Non-Hispanic White   \n",
       "2              Associate or Bachelor degree          Non-Hispanic White   \n",
       "3     1 or more years of college, no degree          Non-Hispanic White   \n",
       "4              Associate or Bachelor degree          Non-Hispanic White   \n",
       "...                                     ...                         ...   \n",
       "4360           Associate or Bachelor degree          Non-Hispanic White   \n",
       "4361           Associate or Bachelor degree          Non-Hispanic White   \n",
       "4362           Associate or Bachelor degree          Non-Hispanic Black   \n",
       "4363  1 or more years of college, no degree          Non-Hispanic White   \n",
       "4364   Master or PhD or professional degree          Non-Hispanic White   \n",
       "\n",
       "      Immigrate-year                          Birthplace_recode  \\\n",
       "0                  0  U.S. state, territory, or outlying region   \n",
       "1                  0  U.S. state, territory, or outlying region   \n",
       "2                  0  U.S. state, territory, or outlying region   \n",
       "3                  0  U.S. state, territory, or outlying region   \n",
       "4                  0  U.S. state, territory, or outlying region   \n",
       "...              ...                                        ...   \n",
       "4360               0  U.S. state, territory, or outlying region   \n",
       "4361               0  U.S. state, territory, or outlying region   \n",
       "4362            2017                                     Africa   \n",
       "4363               0  U.S. state, territory, or outlying region   \n",
       "4364               0  U.S. state, territory, or outlying region   \n",
       "\n",
       "                Speaks_English Employment_status  Income-wages Region_recode  \\\n",
       "0     Yes, speaks only English          Employed         63000         South   \n",
       "1     Yes, speaks only English          Employed         46000         South   \n",
       "2     Yes, speaks only English          Employed         45000         South   \n",
       "3     Yes, speaks only English          Employed         55000         South   \n",
       "4     Yes, speaks only English          Employed         12000         South   \n",
       "...                        ...               ...           ...           ...   \n",
       "4360  Yes, speaks only English          Employed         40000       Midwest   \n",
       "4361  Yes, speaks only English          Employed         65000       Midwest   \n",
       "4362     Yes, speaks very well          Employed         45000       Midwest   \n",
       "4363  Yes, speaks only English          Employed           500       Midwest   \n",
       "4364  Yes, speaks only English          Employed        498000       Midwest   \n",
       "\n",
       "     Region-division_recode       Moved  Year         state  \n",
       "0        East South Central  Same house  2020     Tennessee  \n",
       "1        East South Central  Same house  2020     Tennessee  \n",
       "2        East South Central  Same house  2020     Tennessee  \n",
       "3        East South Central  Same house  2020     Tennessee  \n",
       "4        East South Central  Same house  2020     Tennessee  \n",
       "...                     ...         ...   ...           ...  \n",
       "4360     West North Central  Same house  2020  North Dakota  \n",
       "4361     West North Central  Same house  2020  North Dakota  \n",
       "4362     West North Central  Same house  2020  North Dakota  \n",
       "4363     West North Central  Same house  2020  North Dakota  \n",
       "4364     West North Central  Same house  2020  North Dakota  \n",
       "\n",
       "[4365 rows x 19 columns]"
      ]
     },
     "execution_count": 7,
     "metadata": {},
     "output_type": "execute_result"
    }
   ],
   "source": [
    "census_data = pd.read_excel(\"Wages 2020Census cleaned.xlsx\")\n",
    "census_data"
   ]
  },
  {
   "cell_type": "markdown",
   "id": "1e161101-02a0-4861-867e-05ee3934f6a9",
   "metadata": {},
   "source": [
    "# 1 a) Typical yearly income for the 4365 people\n",
    "## It is represented by mean"
   ]
  },
  {
   "cell_type": "code",
   "execution_count": 9,
   "id": "d94d55a6-f593-4cac-b20c-0423274c9ad8",
   "metadata": {},
   "outputs": [
    {
     "data": {
      "text/plain": [
       "58704.16494845361"
      ]
     },
     "execution_count": 9,
     "metadata": {},
     "output_type": "execute_result"
    }
   ],
   "source": [
    "income_mean = census_data[\"Income-wages\"].mean()\n",
    "income_mean"
   ]
  },
  {
   "cell_type": "code",
   "execution_count": 11,
   "id": "47298fa4-6377-4711-a635-2ff328d8e5a0",
   "metadata": {},
   "outputs": [],
   "source": [
    "# Typical yearly income is equal to 58704.1650"
   ]
  },
  {
   "cell_type": "markdown",
   "id": "61b55454-6dcd-40c8-b323-c74bae7655e3",
   "metadata": {},
   "source": [
    "## 1 b)Whether incomes of these 4365 people vary"
   ]
  },
  {
   "cell_type": "code",
   "execution_count": 14,
   "id": "11af8331-2290-40e8-914b-d8ebcf7923bd",
   "metadata": {},
   "outputs": [
    {
     "data": {
      "text/plain": [
       "660970"
      ]
     },
     "execution_count": 14,
     "metadata": {},
     "output_type": "execute_result"
    }
   ],
   "source": [
    "income_range = census_data[\"Income-wages\"].max() - census_data[\"Income-wages\"].min()\n",
    "income_range"
   ]
  },
  {
   "cell_type": "code",
   "execution_count": 15,
   "id": "f5c498e5-8980-468d-8b46-0fb7071f27a5",
   "metadata": {},
   "outputs": [
    {
     "data": {
      "text/plain": [
       "68338.06143515665"
      ]
     },
     "execution_count": 15,
     "metadata": {},
     "output_type": "execute_result"
    }
   ],
   "source": [
    "standard_deviation = census_data[\"Income-wages\"].std()\n",
    "standard_deviation"
   ]
  },
  {
   "cell_type": "code",
   "execution_count": 16,
   "id": "5ced4adf-4bab-4bad-a96d-ab67d703bfd2",
   "metadata": {},
   "outputs": [],
   "source": [
    "#Since Standard deviation and range of incomes are not zero, incomes of these 4365 people vary"
   ]
  },
  {
   "cell_type": "markdown",
   "id": "3ddd7964-d04a-4007-a29f-3ff074fb115f",
   "metadata": {},
   "source": [
    "# 1c)"
   ]
  },
  {
   "cell_type": "markdown",
   "id": "de556153-ffb2-48df-ae23-247d0a2daac8",
   "metadata": {},
   "source": [
    "If there was no variability in yearly income; \n",
    "Standard deviation would be zero as all incomes would be the same and have no deviation from the mean.\n",
    "IQR would also be zero because the first quartile(Q1) and the third quartile(Q3) would be same indicating no spread in data\n"
   ]
  },
  {
   "cell_type": "code",
   "execution_count": 24,
   "id": "88046fc8-ebbe-4d73-969d-e4eb08844e30",
   "metadata": {},
   "outputs": [],
   "source": [
    "# standard deviation = 0\n",
    "# IQR = 0"
   ]
  },
  {
   "cell_type": "markdown",
   "id": "e57d86fe-87dd-42f4-97d4-ac31a5d926ed",
   "metadata": {},
   "source": [
    "d) If there was variability, then income of every individual would be the same. Let X be the income of of all individuals;\n",
    "Mean = X (since all the incomes are equal, the mean is that contant value)\n",
    "Median = X (the median value is also the same as all others)\n",
    "Q1 = X (since the first quartile is also the value that divides the lower 25% of the data)\n",
    "Q3 = X (the third quartile dividing the upper 25% of the data would also be the same\n",
    "Minimum = X\n",
    "Maximum = X\n",
    "Thus if there is no variability; Mean = Median = Q1 = Q3 = X\n"
   ]
  },
  {
   "cell_type": "markdown",
   "id": "f159cb17-17e4-478c-b2a7-ed1ce63e75bf",
   "metadata": {},
   "source": [
    "# 1e) Possible causes of the variability  in the yearly incomes"
   ]
  },
  {
   "cell_type": "code",
   "execution_count": 29,
   "id": "01fb3ea9-924f-43f7-ba61-2508d41a210b",
   "metadata": {},
   "outputs": [
    {
     "data": {
      "image/png": "[encoded data removed]",
      "text/plain": [
       "<Figure size 1000x600 with 1 Axes>"
      ]
     },
     "metadata": {},
     "output_type": "display_data"
    }
   ],
   "source": [
    "plt.figure(figsize=(10, 6)) #  a boxplot to visualize income distribution based on education level\n",
    "sns.boxplot(data=census_data, x ='Education', y='Income-wages')\n",
    "plt.title('Income distribution by Education Level')\n",
    "plt.xticks(rotation=45)\n",
    "plt.show()"
   ]
  },
  {
   "cell_type": "code",
   "execution_count": 31,
   "id": "6abf595c-0cda-4327-a5ec-7fd1ae56a77f",
   "metadata": {},
   "outputs": [
    {
     "data": {
      "image/png": "[encoded data removed]",
      "text/plain": [
       "<Figure size 1000x600 with 1 Axes>"
      ]
     },
     "metadata": {},
     "output_type": "display_data"
    }
   ],
   "source": [
    "plt.figure(figsize=(10, 6)) #  a boxplot to visualize income distribution based on region\n",
    "sns.boxplot(data=census_data, x='Region-division_recode', y='Income-wages')\n",
    "plt.title('Income distribution by Region')\n",
    "plt.xticks(rotation=45)\n",
    "plt.show()"
   ]
  },
  {
   "cell_type": "code",
   "execution_count": 33,
   "id": "4da4af5a-c762-4a5a-81b1-f107a1078346",
   "metadata": {},
   "outputs": [
    {
     "name": "stdout",
     "output_type": "stream",
     "text": [
      "Income statistics by Education Level:\n",
      "                                        count           mean            std  \\\n",
      "Education                                                                     \n",
      "1 or more years of college, no degree   940.0   43912.872340   43801.946631   \n",
      "Associate or Bachelor degree           1521.0   66324.260355   68490.580580   \n",
      "HS diploma or GED                       990.0   39983.646465   39070.521919   \n",
      "Master or PhD or professional degree    613.0  106567.928222  108705.990391   \n",
      "Some schooling, no HS diploma           301.0   30486.478405   37496.119642   \n",
      "\n",
      "                                         min      25%      50%       75%  \\\n",
      "Education                                                                  \n",
      "1 or more years of college, no degree  180.0  17500.0  34400.0   58000.0   \n",
      "Associate or Bachelor degree           300.0  30000.0  50000.0   80000.0   \n",
      "HS diploma or GED                       30.0  18000.0  32000.0   50000.0   \n",
      "Master or PhD or professional degree   320.0  48000.0  76000.0  120000.0   \n",
      "Some schooling, no HS diploma          230.0  10000.0  24000.0   40000.0   \n",
      "\n",
      "                                            max  \n",
      "Education                                        \n",
      "1 or more years of college, no degree  475000.0  \n",
      "Associate or Bachelor degree           661000.0  \n",
      "HS diploma or GED                      565000.0  \n",
      "Master or PhD or professional degree   661000.0  \n",
      "Some schooling, no HS diploma          331000.0  \n",
      "\n",
      "Income statistics by Region:\n",
      "                        count          mean           std     min      25%  \\\n",
      "Region-division_recode                                                       \n",
      "East North Central      667.0  50336.671664  51150.259626   200.0  18900.0   \n",
      "East South Central      228.0  46034.035088  47965.766862   960.0  18875.0   \n",
      "Middle Atlantic         552.0  72220.271739  97430.213061    30.0  26750.0   \n",
      "Mountain                371.0  54616.981132  62766.460811   400.0  21000.0   \n",
      "New England             191.0  72375.392670  66682.420722  3000.0  31100.0   \n",
      "Pacific                 655.0  71916.900763  86238.126017   230.0  25000.0   \n",
      "South Atlantic          870.0  53207.850575  54742.961690   260.0  20800.0   \n",
      "West North Central      300.0  50169.466667  48874.796629   500.0  23875.0   \n",
      "West South Central      531.0  56071.431262  61553.993778   330.0  22000.0   \n",
      "\n",
      "                            50%      75%       max  \n",
      "Region-division_recode                              \n",
      "East North Central      40000.0  65000.0  433000.0  \n",
      "East South Central      36200.0  55000.0  458000.0  \n",
      "Middle Atlantic         50000.0  83000.0  661000.0  \n",
      "Mountain                40000.0  68000.0  476000.0  \n",
      "New England             53000.0  90000.0  372000.0  \n",
      "Pacific                 48300.0  84000.0  565000.0  \n",
      "South Atlantic          40000.0  68000.0  475000.0  \n",
      "West North Central      40000.0  60250.0  498000.0  \n",
      "West South Central      39000.0  70500.0  472000.0  \n"
     ]
    }
   ],
   "source": [
    "education_income_stats = census_data.groupby('Education')['Income-wages'].describe()\n",
    "region_income_stats = census_data.groupby('Region-division_recode')['Income-wages'].describe()\n",
    "print(\"Income statistics by Education Level:\")\n",
    "print(education_income_stats)\n",
    "print(\"\\nIncome statistics by Region:\")\n",
    "print(region_income_stats)"
   ]
  },
  {
   "cell_type": "markdown",
   "id": "7232edc3-a9ea-4530-956f-2cec67e66fb4",
   "metadata": {},
   "source": [
    "Possible causes iclude:\n",
    "EDUCATION LEVEL: Higher education level tends to correlate with higher paying jobs.\n",
    "REGION/LOCATION: Different regions have different costs of living and job markets."
   ]
  },
  {
   "cell_type": "markdown",
   "id": "36280f5d-036b-4779-865f-7bf7c9743fbd",
   "metadata": {},
   "source": []
  },
  {
   "cell_type": "markdown",
   "id": "71fc9316-b7e7-4b16-a88d-791617684ae6",
   "metadata": {},
   "source": [
    "# Question 2"
   ]
  },
  {
   "cell_type": "code",
   "execution_count": 39,
   "id": "cb38ed5d-d306-467c-b816-0c6ac6a783da",
   "metadata": {},
   "outputs": [
    {
     "data": {
      "text/html": [
       "<div>\n",
       "<style scoped>\n",
       "    .dataframe tbody tr th:only-of-type {\n",
       "        vertical-align: middle;\n",
       "    }\n",
       "\n",
       "    .dataframe tbody tr th {\n",
       "        vertical-align: top;\n",
       "    }\n",
       "\n",
       "    .dataframe thead th {\n",
       "        text-align: right;\n",
       "    }\n",
       "</style>\n",
       "<table border=\"1\" class=\"dataframe\">\n",
       "  <thead>\n",
       "    <tr style=\"text-align: right;\">\n",
       "      <th></th>\n",
       "      <th>StudentID</th>\n",
       "      <th>Gender</th>\n",
       "      <th>Age</th>\n",
       "      <th>StudyHoursPerWeek</th>\n",
       "      <th>AttendanceRate</th>\n",
       "      <th>GPA</th>\n",
       "      <th>Major</th>\n",
       "      <th>PartTimeJob</th>\n",
       "      <th>ExtraCurricularActivities</th>\n",
       "    </tr>\n",
       "  </thead>\n",
       "  <tbody>\n",
       "    <tr>\n",
       "      <th>0</th>\n",
       "      <td>1</td>\n",
       "      <td>Male</td>\n",
       "      <td>24</td>\n",
       "      <td>37</td>\n",
       "      <td>90.75</td>\n",
       "      <td>3.47</td>\n",
       "      <td>Arts</td>\n",
       "      <td>Yes</td>\n",
       "      <td>No</td>\n",
       "    </tr>\n",
       "    <tr>\n",
       "      <th>1</th>\n",
       "      <td>2</td>\n",
       "      <td>Female</td>\n",
       "      <td>22</td>\n",
       "      <td>37</td>\n",
       "      <td>74.90</td>\n",
       "      <td>2.32</td>\n",
       "      <td>Education</td>\n",
       "      <td>No</td>\n",
       "      <td>No</td>\n",
       "    </tr>\n",
       "    <tr>\n",
       "      <th>2</th>\n",
       "      <td>3</td>\n",
       "      <td>Male</td>\n",
       "      <td>22</td>\n",
       "      <td>10</td>\n",
       "      <td>53.36</td>\n",
       "      <td>2.38</td>\n",
       "      <td>Business</td>\n",
       "      <td>No</td>\n",
       "      <td>No</td>\n",
       "    </tr>\n",
       "    <tr>\n",
       "      <th>3</th>\n",
       "      <td>4</td>\n",
       "      <td>Male</td>\n",
       "      <td>24</td>\n",
       "      <td>10</td>\n",
       "      <td>70.26</td>\n",
       "      <td>3.46</td>\n",
       "      <td>Science</td>\n",
       "      <td>Yes</td>\n",
       "      <td>No</td>\n",
       "    </tr>\n",
       "    <tr>\n",
       "      <th>4</th>\n",
       "      <td>5</td>\n",
       "      <td>Male</td>\n",
       "      <td>18</td>\n",
       "      <td>19</td>\n",
       "      <td>74.87</td>\n",
       "      <td>2.31</td>\n",
       "      <td>Education</td>\n",
       "      <td>Yes</td>\n",
       "      <td>No</td>\n",
       "    </tr>\n",
       "    <tr>\n",
       "      <th>...</th>\n",
       "      <td>...</td>\n",
       "      <td>...</td>\n",
       "      <td>...</td>\n",
       "      <td>...</td>\n",
       "      <td>...</td>\n",
       "      <td>...</td>\n",
       "      <td>...</td>\n",
       "      <td>...</td>\n",
       "      <td>...</td>\n",
       "    </tr>\n",
       "    <tr>\n",
       "      <th>495</th>\n",
       "      <td>496</td>\n",
       "      <td>Male</td>\n",
       "      <td>22</td>\n",
       "      <td>37</td>\n",
       "      <td>76.61</td>\n",
       "      <td>2.97</td>\n",
       "      <td>Science</td>\n",
       "      <td>No</td>\n",
       "      <td>No</td>\n",
       "    </tr>\n",
       "    <tr>\n",
       "      <th>496</th>\n",
       "      <td>497</td>\n",
       "      <td>Male</td>\n",
       "      <td>23</td>\n",
       "      <td>11</td>\n",
       "      <td>56.29</td>\n",
       "      <td>3.20</td>\n",
       "      <td>Science</td>\n",
       "      <td>No</td>\n",
       "      <td>No</td>\n",
       "    </tr>\n",
       "    <tr>\n",
       "      <th>497</th>\n",
       "      <td>498</td>\n",
       "      <td>Female</td>\n",
       "      <td>20</td>\n",
       "      <td>6</td>\n",
       "      <td>56.64</td>\n",
       "      <td>3.20</td>\n",
       "      <td>Science</td>\n",
       "      <td>No</td>\n",
       "      <td>Yes</td>\n",
       "    </tr>\n",
       "    <tr>\n",
       "      <th>498</th>\n",
       "      <td>499</td>\n",
       "      <td>Male</td>\n",
       "      <td>22</td>\n",
       "      <td>18</td>\n",
       "      <td>57.18</td>\n",
       "      <td>2.05</td>\n",
       "      <td>Business</td>\n",
       "      <td>No</td>\n",
       "      <td>Yes</td>\n",
       "    </tr>\n",
       "    <tr>\n",
       "      <th>499</th>\n",
       "      <td>500</td>\n",
       "      <td>Female</td>\n",
       "      <td>24</td>\n",
       "      <td>21</td>\n",
       "      <td>96.99</td>\n",
       "      <td>2.64</td>\n",
       "      <td>Engineering</td>\n",
       "      <td>No</td>\n",
       "      <td>No</td>\n",
       "    </tr>\n",
       "  </tbody>\n",
       "</table>\n",
       "<p>500 rows × 9 columns</p>\n",
       "</div>"
      ],
      "text/plain": [
       "     StudentID  Gender  Age  StudyHoursPerWeek  AttendanceRate   GPA  \\\n",
       "0            1    Male   24                 37           90.75  3.47   \n",
       "1            2  Female   22                 37           74.90  2.32   \n",
       "2            3    Male   22                 10           53.36  2.38   \n",
       "3            4    Male   24                 10           70.26  3.46   \n",
       "4            5    Male   18                 19           74.87  2.31   \n",
       "..         ...     ...  ...                ...             ...   ...   \n",
       "495        496    Male   22                 37           76.61  2.97   \n",
       "496        497    Male   23                 11           56.29  3.20   \n",
       "497        498  Female   20                  6           56.64  3.20   \n",
       "498        499    Male   22                 18           57.18  2.05   \n",
       "499        500  Female   24                 21           96.99  2.64   \n",
       "\n",
       "           Major PartTimeJob ExtraCurricularActivities  \n",
       "0           Arts         Yes                        No  \n",
       "1      Education          No                        No  \n",
       "2       Business          No                        No  \n",
       "3        Science         Yes                        No  \n",
       "4      Education         Yes                        No  \n",
       "..           ...         ...                       ...  \n",
       "495      Science          No                        No  \n",
       "496      Science          No                        No  \n",
       "497      Science          No                       Yes  \n",
       "498     Business          No                       Yes  \n",
       "499  Engineering          No                        No  \n",
       "\n",
       "[500 rows x 9 columns]"
      ]
     },
     "execution_count": 39,
     "metadata": {},
     "output_type": "execute_result"
    }
   ],
   "source": [
    "student_df = pd.read_csv('student_performance_data.csv') #import a dataset into jupyter notebook.\n",
    "student_df #browse through the dataset"
   ]
  },
  {
   "cell_type": "markdown",
   "id": "c8f1642b-9e2d-44f5-98e4-ea29eea52089",
   "metadata": {},
   "source": [
    "# 2 a) For each gender which major has the highest total study hours per week"
   ]
  },
  {
   "cell_type": "code",
   "execution_count": 42,
   "id": "755885c5-d16b-4b7b-8636-325b9d67ca38",
   "metadata": {},
   "outputs": [
    {
     "name": "stdout",
     "output_type": "stream",
     "text": [
      "Gender  Major      \n",
      "Female  Arts           1070\n",
      "        Business       1229\n",
      "        Education       818\n",
      "        Engineering    1196\n",
      "        Science         813\n",
      "Male    Arts            881\n",
      "        Business       1130\n",
      "        Education      1212\n",
      "        Engineering     929\n",
      "        Science         660\n",
      "Name: StudyHoursPerWeek, dtype: int64\n"
     ]
    }
   ],
   "source": [
    "gender_major_hours = student_df.groupby(['Gender', 'Major'])['StudyHoursPerWeek'].sum()\n",
    "print(gender_major_hours)"
   ]
  },
  {
   "cell_type": "code",
   "execution_count": 45,
   "id": "c5b1a627-34fd-4ddd-b161-5cb4d1375325",
   "metadata": {},
   "outputs": [
    {
     "name": "stdout",
     "output_type": "stream",
     "text": [
      "Gender\n",
      "Female    (Female, Business)\n",
      "Male       (Male, Education)\n",
      "Name: StudyHoursPerWeek, dtype: object\n"
     ]
    }
   ],
   "source": [
    "highest_study_hours_per_gender = gender_major_hours.groupby('Gender').idxmax()\n",
    "print(highest_study_hours_per_gender)"
   ]
  },
  {
   "cell_type": "code",
   "execution_count": null,
   "id": "c8b9967d-8444-41ae-b1a7-b6d696a66aa2",
   "metadata": {},
   "outputs": [],
   "source": [
    "#\n",
    "For Female gender, Business has the highest total study hours per week\n",
    "For Male Gender, Education has the highest total study hours per week"
   ]
  },
  {
   "cell_type": "markdown",
   "id": "a11c89ec-f7e1-4274-9e59-48905fab1f38",
   "metadata": {},
   "source": [
    "# 2b) The gender that has the highes overall average attendence rate"
   ]
  },
  {
   "cell_type": "code",
   "execution_count": 47,
   "id": "4f1dd5eb-ac32-4e42-be67-93d79c09cf92",
   "metadata": {},
   "outputs": [
    {
     "name": "stdout",
     "output_type": "stream",
     "text": [
      "Gender\n",
      "Female    75.925742\n",
      "Male      74.009016\n",
      "Name: AttendanceRate, dtype: float64\n",
      "Female\n",
      "75.9257421875\n"
     ]
    }
   ],
   "source": [
    "gender_avg_attendance =  student_df.groupby('Gender')['AttendanceRate'].mean()\n",
    "highest_attendance_gender = gender_avg_attendance.idxmax()\n",
    "highest_attendance_rate = gender_avg_attendance.max()\n",
    "print(gender_avg_attendance)\n",
    "print(highest_attendance_gender)\n",
    "print(highest_attendance_rate)"
   ]
  },
  {
   "cell_type": "code",
   "execution_count": null,
   "id": "0efae117-626b-4157-b909-d72aefd11e4a",
   "metadata": {},
   "outputs": [],
   "source": [
    "# Female has the highest overall avearage attendence rate"
   ]
  },
  {
   "cell_type": "markdown",
   "id": "ab61ec40-ab15-439e-885e-adc24a3b3084",
   "metadata": {},
   "source": [
    "# 2c)Percentage of students that have part-time jobs and those that don't"
   ]
  },
  {
   "cell_type": "code",
   "execution_count": 51,
   "id": "6f052f6a-23d6-4102-bff1-b37ab9e672fc",
   "metadata": {},
   "outputs": [
    {
     "name": "stdout",
     "output_type": "stream",
     "text": [
      "PartTimeJob\n",
      "Yes    53.6\n",
      "No     46.4\n",
      "Name: proportion, dtype: float64\n"
     ]
    }
   ],
   "source": [
    "part_time_percentage =student_df ['PartTimeJob'].value_counts(normalize=True) * 100\n",
    "print(part_time_percentage)"
   ]
  },
  {
   "cell_type": "code",
   "execution_count": null,
   "id": "eb49d5b1-2fd6-47a1-8a25-1232bc9920cf",
   "metadata": {},
   "outputs": [],
   "source": [
    "#Part-time job = 53.6%\n",
    "# No part-time job = 46.4%"
   ]
  },
  {
   "cell_type": "markdown",
   "id": "e3f3fb71-bdf5-47d2-beae-03427d83ad96",
   "metadata": {},
   "source": [
    "# 2d) For each gender, mean GPA and variance of age"
   ]
  },
  {
   "cell_type": "code",
   "execution_count": 56,
   "id": "c42c5390-8857-44a1-9b21-89ba437d0b5f",
   "metadata": {},
   "outputs": [
    {
     "name": "stdout",
     "output_type": "stream",
     "text": [
      "             GPA       Age\n",
      "Gender                    \n",
      "Female  2.995352  4.005637\n",
      "Male    2.974467  3.960130\n"
     ]
    }
   ],
   "source": [
    "gender_stats = student_df.groupby('Gender').agg({'GPA': 'mean', 'Age': 'var'})\n",
    "print(gender_stats)"
   ]
  },
  {
   "cell_type": "markdown",
   "id": "ee55da3f-c01b-45c4-a378-4feb20cfcd3c",
   "metadata": {},
   "source": [
    "# 2e) Visualisation to show relationship between any two values"
   ]
  },
  {
   "cell_type": "code",
   "execution_count": 60,
   "id": "c487bd6e-2030-42e9-b1d3-c7c50ec66c46",
   "metadata": {},
   "outputs": [
    {
     "data": {
      "image/png": "[encoded data removed]",
      "text/plain": [
       "<Figure size 640x480 with 1 Axes>"
      ]
     },
     "metadata": {},
     "output_type": "display_data"
    }
   ],
   "source": [
    "sns.scatterplot(data=student_df, x='StudyHoursPerWeek', y='GPA')\n",
    "plt.title('Study Hours vs GPA')\n",
    "plt.show()"
   ]
  },
  {
   "cell_type": "markdown",
   "id": "e873f6e1-62a8-452d-81a8-47546edfe0e6",
   "metadata": {},
   "source": [
    "# No.3"
   ]
  },
  {
   "cell_type": "markdown",
   "id": "9900b926-08ab-4a7d-a454-c079289e08d9",
   "metadata": {},
   "source": [
    "# a)Steps involved in fitting a linear regression in Python"
   ]
  },
  {
   "cell_type": "markdown",
   "id": "2f3e8ed2-074f-4799-86ce-7e0cbb13f21d",
   "metadata": {},
   "source": [
    "1. Import neccessary libralies such as pandas(for data manupilation), numpy(for numerical operations)\n",
    "and scikit-learn(for the machine learning models.\n",
    "2. Load the data and inspect it for missing values, outliers or features that need to be processed\n",
    "3.Data processing. Split the data into input features(x) and target variable(y)\n",
    "Split the dataset into  training and test sets using train_test_split() from sklearn.model_selection\n",
    "4. Model initialisation. Initialise a LinearRegression() model from sklearn.linear_model\n",
    "5. Fit the model. Train the model using model.fit(x_train,y_train) where x_train are input features and y_train is the target variable\n",
    "6. Predict. Use the trained model to make predictions on the test data using model_predict(x_test)\n",
    "7. Evaluate the model's performance using metrics like Mean Squared Error(MSE)"
   ]
  },
  {
   "cell_type": "markdown",
   "id": "ad691ca6-9791-48c0-bded-82132f064b85",
   "metadata": {},
   "source": [
    "# b) Assumptions of linear regression"
   ]
  },
  {
   "cell_type": "markdown",
   "id": "0ea36c40-f6b1-498d-ba40-3af20b3b8ab0",
   "metadata": {},
   "source": [
    "1. Linearity. The relationship between independent and depedent variables is linear, meaning change in the depent variable\n",
    "is proportional to change in the independent variable.\n",
    "2. Independence. Observations should be independent of each other. This is crucial for statical teats\n",
    "3. Normality of errors. Errors should be normally distributed, especially for hypothesis testing. "
   ]
  },
  {
   "cell_type": "markdown",
   "id": "cb399141-6988-4c95-9136-324d67670036",
   "metadata": {},
   "source": [
    "# c)"
   ]
  },
  {
   "cell_type": "code",
   "execution_count": 111,
   "id": "5f2bdc32-6d03-444b-80a3-54a197d36fc8",
   "metadata": {},
   "outputs": [
    {
     "name": "stdout",
     "output_type": "stream",
     "text": [
      "Linear Regression Equation: y = 51785.309551352766 + 5111.969455548834*x\n"
     ]
    }
   ],
   "source": [
    "# Import necessary libraries\n",
    "import pandas as pd\n",
    "from sklearn.model_selection import train_test_split\n",
    "from sklearn.linear_model import LinearRegression\n",
    "from sklearn.preprocessing import LabelEncoder\n",
    "\n",
    "# Assuming census_data is your DataFrame\n",
    "# Encoding Education if it's categorical\n",
    "encoder = LabelEncoder()\n",
    "census_data['Education'] = encoder.fit_transform(census_data['Education'])\n",
    "\n",
    "# Independent and dependent variables\n",
    "x = census_data[[\"Education\"]]  # Independent variable\n",
    "y = census_data[[\"Income-wages\"]]  # Dependent variable\n",
    "\n",
    "# Split the data into training and testing sets\n",
    "x_train, x_test, y_train, y_test = train_test_split(x, y, test_size=0.2, random_state=42)\n",
    "\n",
    "# Create and fit the Linear Regression model\n",
    "model = LinearRegression()\n",
    "model.fit(x_train, y_train)\n",
    "\n",
    "# Extract the intercept and slope\n",
    "intercept = model.intercept_[0]\n",
    "slope = model.coef_[0][0]\n",
    "\n",
    "# Print the linear regression equation\n",
    "print(f\"Linear Regression Equation: y = {intercept} + {slope}*x\")\n"
   ]
  },
  {
   "cell_type": "markdown",
   "id": "0bbdc78e-50b3-433f-a74c-0eb9feb153ce",
   "metadata": {},
   "source": [
    "# d)"
   ]
  },
  {
   "cell_type": "code",
   "execution_count": 116,
   "id": "26823a34-0808-49d6-8355-c114e7f15dec",
   "metadata": {},
   "outputs": [
    {
     "name": "stdout",
     "output_type": "stream",
     "text": [
      "Mean Absolute Error: 37756.76984202493\n"
     ]
    }
   ],
   "source": [
    "from sklearn.metrics import mean_absolute_error\n",
    "y_pred = model.predict(x_test)\n",
    "mae = mean_absolute_error(y_test,y_pred)\n",
    "print(f\"Mean Absolute Error: {mae}\")"
   ]
  },
  {
   "cell_type": "markdown",
   "id": "44d70a89-17a8-434c-a6e7-72bd3750c7dd",
   "metadata": {},
   "source": [
    "# e) Some key outputs of linear regression"
   ]
  },
  {
   "cell_type": "code",
   "execution_count": 130,
   "id": "30982534-b074-47a4-8915-e6bdb596f995",
   "metadata": {},
   "outputs": [
    {
     "name": "stdout",
     "output_type": "stream",
     "text": [
      "Intercept (β0): [51785.30955135]\n",
      "Coefficients (β1): [[5111.96945555]]\n",
      "R-squared: -0.0002214548706074293\n"
     ]
    }
   ],
   "source": [
    "print(f\"Intercept (β0): {model.intercept_}\")\n",
    "print(f\"Coefficients (β1): {model.coef_}\")\n",
    "print(f\"R-squared: {model.score(x_test, y_test)}\")\n"
   ]
  },
  {
   "cell_type": "markdown",
   "id": "aa1f2313-765b-416f-a8da-9f666095349d",
   "metadata": {},
   "source": [
    "1. Intercept (β0):\n",
    "This is the point where the regression line crosses the y-axis. It represents the predicted value of y when all input features are zero.\n",
    "2. Coefficients (β1, β2, ...):\n",
    "These represent the change in the dependent variable y for a one-unit change in the corresponding independent variable x. In the equation y = β0 + β1 * x, β1 tells you how much y increases (or decreases) as x increases.\n",
    "3. R-squared:\n",
    "This represents the proportion of the variance in the dependent variable that is predictable from the independent variable(s). An R-squared close to 1 indicates a strong model fit.\n",
    "4. P-values (for hypothesis testing):\n",
    "The p-value indicates whether the coefficient is significantly different from zero. A small p-value (e.g., < 0.05) suggests that the feature is statistically significant.\n",
    "5. Residuals:\n",
    "The differences between the observed and predicted values. These are used to assess the goodness of fit and assumptions like homoscedasticity and normality."
   ]
  },
  {
   "cell_type": "markdown",
   "id": "ae52bea1-743e-4283-a205-d3f1f47ddaeb",
   "metadata": {},
   "source": [
    "# f) plot the linear regression model"
   ]
  },
  {
   "cell_type": "code",
   "execution_count": 121,
   "id": "2ee38d66-7789-489b-a135-65a6b73655cd",
   "metadata": {},
   "outputs": [
    {
     "data": {
      "image/png": "[encoded data removed]",
      "text/plain": [
       "<Figure size 640x480 with 1 Axes>"
      ]
     },
     "metadata": {},
     "output_type": "display_data"
    }
   ],
   "source": [
    "plt.scatter(x,y,color=\"blue\", label = \"Data Points\")\n",
    "plt.plot(x,model.predict(x), color = \"red\", label = \"Regression Line\")\n",
    "plt.xlabel(\"Year of Education\")\n",
    "plt.ylabel(\"Income\")\n",
    "plt.title(\"Linear Regression Model\")\n",
    "plt.legend()\n",
    "plt.show()\n",
    "            \n"
   ]
  },
  {
   "cell_type": "markdown",
   "id": "0ed55658-dba1-4fba-b006-98ab4eae269c",
   "metadata": {},
   "source": [
    "# No.4 (Bonus question)"
   ]
  },
  {
   "cell_type": "markdown",
   "id": "c7cf6b1a-fea0-4677-b366-5101066753dc",
   "metadata": {},
   "source": [
    "# 4a) Multiply a 5x3 matrix by a 3x2 matrix"
   ]
  },
  {
   "cell_type": "code",
   "execution_count": 65,
   "id": "88d9fb79-06eb-4c99-bcba-28747d606b78",
   "metadata": {},
   "outputs": [
    {
     "data": {
      "text/plain": [
       "array([[0.902313  , 0.90668503],\n",
       "       [0.40527318, 0.64766211],\n",
       "       [0.78184634, 0.76157583],\n",
       "       [0.7152174 , 0.68525294],\n",
       "       [1.11866869, 0.85710748]])"
      ]
     },
     "execution_count": 65,
     "metadata": {},
     "output_type": "execute_result"
    }
   ],
   "source": [
    "matrix_a = matrix_a = np.random.rand(5,3)\n",
    "matrix_b = matrix_b = np.random.rand(3, 2)\n",
    "result = np.dot(matrix_a, matrix_b)\n",
    "result"
   ]
  },
  {
   "cell_type": "markdown",
   "id": "4b85900e-5976-4d01-aa36-d89e4f7c17c2",
   "metadata": {},
   "source": [
    "# 4b) 3x3 identity matrix"
   ]
  },
  {
   "cell_type": "code",
   "execution_count": 69,
   "id": "3dc1a8b3-57e6-4335-862c-99fed88396c1",
   "metadata": {},
   "outputs": [
    {
     "data": {
      "text/plain": [
       "array([[1., 0., 0.],\n",
       "       [0., 1., 0.],\n",
       "       [0., 0., 1.]])"
      ]
     },
     "execution_count": 69,
     "metadata": {},
     "output_type": "execute_result"
    }
   ],
   "source": [
    "identity_matrix = np.eye(3)# The np.eye() function helps to indentify the size of a matrix.\n",
    "identity_matrix"
   ]
  },
  {
   "cell_type": "markdown",
   "id": "a06e169c-aa1f-4c36-b1b2-8f17adf033a4",
   "metadata": {},
   "source": [
    "# 4c)  A vector with values ranging from 10 to 49"
   ]
  },
  {
   "cell_type": "code",
   "execution_count": 77,
   "id": "c1118b95-cd83-4a26-916d-2fa2e1ab5505",
   "metadata": {},
   "outputs": [
    {
     "name": "stdout",
     "output_type": "stream",
     "text": [
      "[10 11 12 13 14 15 16 17 18 19 20 21 22 23 24 25 26 27 28 29 30 31 32 33\n",
      " 34 35 36 37 38 39 40 41 42 43 44 45 46 47 48 49]\n"
     ]
    }
   ],
   "source": [
    "vector = np.arange(10, 50)# np.arrange helps to create the sequence of numbers within a range.\n",
    "print(vector)"
   ]
  },
  {
   "cell_type": "markdown",
   "id": "022aeb2a-c78c-4d9d-b6eb-b0cc397e2e5c",
   "metadata": {},
   "source": [
    "# 4d) A null vector of size 10"
   ]
  },
  {
   "cell_type": "code",
   "execution_count": 79,
   "id": "1a76497d-0f9f-48de-892a-64748b1b06b0",
   "metadata": {},
   "outputs": [
    {
     "name": "stdout",
     "output_type": "stream",
     "text": [
      "[0. 0. 0. 0. 0. 0. 0. 0. 0. 0.]\n"
     ]
    }
   ],
   "source": [
    "null_vector = np.zeros(10)# a null_vector is created using np.zeros(10) because it is filled with zeros\n",
    "print(null_vector)\n"
   ]
  },
  {
   "cell_type": "markdown",
   "id": "05b698f0-d4f3-4aa4-8c6b-8c15ae66175c",
   "metadata": {},
   "source": [
    "# 4e) A 3X3X3 array with random values"
   ]
  },
  {
   "cell_type": "code",
   "execution_count": 82,
   "id": "49482635-2acd-4b45-a5da-6c1d86b632e5",
   "metadata": {},
   "outputs": [
    {
     "name": "stdout",
     "output_type": "stream",
     "text": [
      "[[[0.41297665 0.01687772 0.41550817]\n",
      "  [0.07666997 0.59098528 0.36441685]\n",
      "  [0.53742602 0.24798411 0.10063434]]\n",
      "\n",
      " [[0.18461196 0.28903226 0.70613383]\n",
      "  [0.03429369 0.85574288 0.83711984]\n",
      "  [0.45284626 0.8244535  0.5492878 ]]\n",
      "\n",
      " [[0.96899764 0.09659237 0.86604658]\n",
      "  [0.55558328 0.34853937 0.61791848]\n",
      "  [0.67340123 0.48688634 0.62353484]]]\n"
     ]
    }
   ],
   "source": [
    "random_array = np.random.rand(3, 3, 3)# np.rand generates arrays with random values #(3,3,3) is the shape specification.\n",
    "print(random_array)"
   ]
  },
  {
   "cell_type": "markdown",
   "id": "2203dd7e-2c78-46f5-ab31-a3e863a07186",
   "metadata": {},
   "source": [
    "# 4f)  A 5x5 matrix with values 1,2,3,4 just below the diagonal"
   ]
  },
  {
   "cell_type": "code",
   "execution_count": 85,
   "id": "ec083f6c-5646-42cb-9d84-02f82772adc2",
   "metadata": {},
   "outputs": [
    {
     "name": "stdout",
     "output_type": "stream",
     "text": [
      "[[0 0 0 0 0]\n",
      " [1 0 0 0 0]\n",
      " [0 2 0 0 0]\n",
      " [0 0 3 0 0]\n",
      " [0 0 0 4 0]]\n"
     ]
    }
   ],
   "source": [
    "matrix = np.diag([1, 2, 3, 4], k=-1)# np.diag() creates a diagonal matrix, and then shift the diagonal to just below the main diagonal\n",
    "print(matrix)"
   ]
  },
  {
   "cell_type": "markdown",
   "id": "36a6dc80-a2d2-44a5-9f38-4ec77211263f",
   "metadata": {},
   "source": [
    "# 4h) How to get dates of yesterday, today and tomorrow"
   ]
  },
  {
   "cell_type": "code",
   "execution_count": 92,
   "id": "92073186-849e-4194-adc3-5390eefd6c5b",
   "metadata": {},
   "outputs": [],
   "source": [
    "from datetime import datetime, timedelta"
   ]
  },
  {
   "cell_type": "code",
   "execution_count": 94,
   "id": "627e3b67-8cbb-40e4-825d-40cf8da1f1f9",
   "metadata": {},
   "outputs": [
    {
     "name": "stdout",
     "output_type": "stream",
     "text": [
      "Yesterday: 2024-12-10\n",
      "Today: 2024-12-11\n",
      "Tomorrow: 2024-12-12\n"
     ]
    }
   ],
   "source": [
    "today = datetime.today() # helps to get today's date\n",
    "yesterday = today - timedelta(days=1) # helps to get yesterday's and tomorrow's dates\n",
    "tomorrow = today + timedelta(days=1)\n",
    "print(\"Yesterday:\", yesterday.date()) #datetime.datetime.today()` gives today's date and timedelta helps to get yesterday's and tomorrow's dates.\n",
    "print(\"Today:\", today.date())\n",
    "print(\"Tomorrow:\", tomorrow.date())"
   ]
  },
  {
   "cell_type": "markdown",
   "id": "f1152842-7c93-4721-9bd2-e568aee42d2e",
   "metadata": {},
   "source": [
    "# 4i)Find indices of non-zero elements from [1,2,0,0,4,0]"
   ]
  },
  {
   "cell_type": "code",
   "execution_count": 97,
   "id": "a73ddf22-8718-4d67-9f16-a8a5a392cf7a",
   "metadata": {},
   "outputs": [
    {
     "name": "stdout",
     "output_type": "stream",
     "text": [
      "(array([0, 1, 4], dtype=int64),)\n"
     ]
    }
   ],
   "source": [
    "arr = np.array([1, 2, 0, 0, 4, 0])#To find the indices of non-zero elements in an array, you can use `np.nonzero()` or `np.where()`.\n",
    "indices = np.nonzero(arr)\n",
    "print(indices)"
   ]
  },
  {
   "cell_type": "code",
   "execution_count": null,
   "id": "0741c86d-8596-4a55-b63a-eb64cab57305",
   "metadata": {},
   "outputs": [],
   "source": []
  }
 ],
 "metadata": {
  "kernelspec": {
   "display_name": "Python 3 (ipykernel)",
   "language": "python",
   "name": "python3"
  },
  "language_info": {
   "codemirror_mode": {
    "name": "ipython",
    "version": 3
   },
   "file_extension": ".py",
   "mimetype": "text/x-python",
   "name": "python",
   "nbconvert_exporter": "python",
   "pygments_lexer": "ipython3",
   "version": "3.12.4"
  }
 },
 "nbformat": 4,
 "nbformat_minor": 5
}
